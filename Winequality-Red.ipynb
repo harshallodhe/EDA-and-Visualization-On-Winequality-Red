{
 "cells": [
  {
   "cell_type": "markdown",
   "id": "bbf14c17",
   "metadata": {},
   "source": [
    "# Project Name :- EDA and Visualization On Winequality-Red"
   ]
  },
  {
   "cell_type": "markdown",
   "id": "3bfc0f6e",
   "metadata": {},
   "source": [
    "# Technologies Used:-\n",
    "\n",
    "R programming\n",
    "\n",
    "Libraries:-\n",
    "(ggplot2),\n",
    "(corrplot),\n",
    "(reshape2),\n",
    "(dplyr),\n",
    "(tidyverse)\n",
    "\n",
    "Packages:-\n",
    "('corrplot'),\n",
    "('reshape2'),\n",
    "('tidyverse')"
   ]
  },
  {
   "cell_type": "markdown",
   "id": "3c5fe482",
   "metadata": {},
   "source": [
    "# Information about Data set:-\n",
    "fixed acidity - most acids involved with wine or fixed or nonvolatile (do not evaporate readily);\n",
    "\n",
    "volatile acidity - the amount of acetic acid in wine, which at too high of levels can lead to an unpleasant, vinegar taste;\n",
    "\n",
    "citric acid - found in small quantities, citric acid can add ‘freshness’ and flavor to wines;\n",
    "\n",
    "residual sugar - the amount of sugar remaining after fermentation stops, it’s rare to find wines with less than 1 gram/liter and wines with greater than 45 grams/liter are considered sweet;\n",
    "\n",
    "chlorides - the amount of salt in the wine;\n",
    "\n",
    "free sulfur dioxide - the free form of SO2 exists in equilibrium between molecular SO2 (as a dissolved gas) and bisulfite ion; it prevents microbial growth and the oxidation of wine;\n",
    "\n",
    "total sulfur dioxide - amount of free and bound forms of S02; in low concentrations, SO2 is mostly undetectable in wine, but at free SO2 concentrations over 50 ppm, SO2 becomes evident in the nose and taste of wine;\n",
    "\n",
    "density - the density of water is close to that of water depending on the percent alcohol and sugar content;\n",
    "\n",
    "pH - describes how acidic or basic a wine is on a scale from 0 (very acidic) to 14 (very basic); most wines are between 3-4 on the pH scale;\n",
    "\n",
    "sulphates - a wine additive which can contribute to sulfur dioxide gas (S02) levels, wich acts as an antimicrobial and antioxidant\n",
    "\n",
    "alcohol - the percent alcohol content of the wine;"
   ]
  },
  {
   "cell_type": "code",
   "execution_count": 83,
   "id": "8fd4d57b",
   "metadata": {
    "scrolled": true
   },
   "outputs": [
    {
     "name": "stdout",
     "output_type": "stream",
     "text": [
      "\n",
      "  There is a binary version available but the source version is later:\n",
      "         binary source needs_compilation\n",
      "corrplot   0.88   0.92             FALSE\n",
      "\n"
     ]
    },
    {
     "name": "stderr",
     "output_type": "stream",
     "text": [
      "installing the source package 'corrplot'\n",
      "\n"
     ]
    }
   ],
   "source": [
    "install.packages('corrplot')\n"
   ]
  },
  {
   "cell_type": "code",
   "execution_count": 84,
   "id": "9a64e694",
   "metadata": {},
   "outputs": [],
   "source": [
    "#libraries needed\n",
    "library(corrplot)"
   ]
  },
  {
   "cell_type": "code",
   "execution_count": 85,
   "id": "4b178e40",
   "metadata": {},
   "outputs": [
    {
     "data": {
      "text/html": [
       "<table>\n",
       "<thead><tr><th scope=col>X</th><th scope=col>fixed.acidity</th><th scope=col>volatile.acidity</th><th scope=col>citric.acid</th><th scope=col>residual.sugar</th><th scope=col>chlorides</th><th scope=col>free.sulfur.dioxide</th><th scope=col>total.sulfur.dioxide</th><th scope=col>density</th><th scope=col>pH</th><th scope=col>sulphates</th><th scope=col>alcohol</th><th scope=col>quality</th></tr></thead>\n",
       "<tbody>\n",
       "\t<tr><td>1     </td><td> 7.4  </td><td>0.70  </td><td>0.00  </td><td>1.9   </td><td>0.076 </td><td>11    </td><td>34    </td><td>0.9978</td><td>3.51  </td><td>0.56  </td><td>9.4   </td><td>5     </td></tr>\n",
       "\t<tr><td>2     </td><td> 7.8  </td><td>0.88  </td><td>0.00  </td><td>2.6   </td><td>0.098 </td><td>25    </td><td>67    </td><td>0.9968</td><td>3.20  </td><td>0.68  </td><td>9.8   </td><td>5     </td></tr>\n",
       "\t<tr><td>3     </td><td> 7.8  </td><td>0.76  </td><td>0.04  </td><td>2.3   </td><td>0.092 </td><td>15    </td><td>54    </td><td>0.9970</td><td>3.26  </td><td>0.65  </td><td>9.8   </td><td>5     </td></tr>\n",
       "\t<tr><td>4     </td><td>11.2  </td><td>0.28  </td><td>0.56  </td><td>1.9   </td><td>0.075 </td><td>17    </td><td>60    </td><td>0.9980</td><td>3.16  </td><td>0.58  </td><td>9.8   </td><td>6     </td></tr>\n",
       "\t<tr><td>5     </td><td> 7.4  </td><td>0.70  </td><td>0.00  </td><td>1.9   </td><td>0.076 </td><td>11    </td><td>34    </td><td>0.9978</td><td>3.51  </td><td>0.56  </td><td>9.4   </td><td>5     </td></tr>\n",
       "\t<tr><td>6     </td><td> 7.4  </td><td>0.66  </td><td>0.00  </td><td>1.8   </td><td>0.075 </td><td>13    </td><td>40    </td><td>0.9978</td><td>3.51  </td><td>0.56  </td><td>9.4   </td><td>5     </td></tr>\n",
       "</tbody>\n",
       "</table>\n"
      ],
      "text/latex": [
       "\\begin{tabular}{r|lllllllllllll}\n",
       " X & fixed.acidity & volatile.acidity & citric.acid & residual.sugar & chlorides & free.sulfur.dioxide & total.sulfur.dioxide & density & pH & sulphates & alcohol & quality\\\\\n",
       "\\hline\n",
       "\t 1      &  7.4   & 0.70   & 0.00   & 1.9    & 0.076  & 11     & 34     & 0.9978 & 3.51   & 0.56   & 9.4    & 5     \\\\\n",
       "\t 2      &  7.8   & 0.88   & 0.00   & 2.6    & 0.098  & 25     & 67     & 0.9968 & 3.20   & 0.68   & 9.8    & 5     \\\\\n",
       "\t 3      &  7.8   & 0.76   & 0.04   & 2.3    & 0.092  & 15     & 54     & 0.9970 & 3.26   & 0.65   & 9.8    & 5     \\\\\n",
       "\t 4      & 11.2   & 0.28   & 0.56   & 1.9    & 0.075  & 17     & 60     & 0.9980 & 3.16   & 0.58   & 9.8    & 6     \\\\\n",
       "\t 5      &  7.4   & 0.70   & 0.00   & 1.9    & 0.076  & 11     & 34     & 0.9978 & 3.51   & 0.56   & 9.4    & 5     \\\\\n",
       "\t 6      &  7.4   & 0.66   & 0.00   & 1.8    & 0.075  & 13     & 40     & 0.9978 & 3.51   & 0.56   & 9.4    & 5     \\\\\n",
       "\\end{tabular}\n"
      ],
      "text/markdown": [
       "\n",
       "| X | fixed.acidity | volatile.acidity | citric.acid | residual.sugar | chlorides | free.sulfur.dioxide | total.sulfur.dioxide | density | pH | sulphates | alcohol | quality |\n",
       "|---|---|---|---|---|---|---|---|---|---|---|---|---|\n",
       "| 1      |  7.4   | 0.70   | 0.00   | 1.9    | 0.076  | 11     | 34     | 0.9978 | 3.51   | 0.56   | 9.4    | 5      |\n",
       "| 2      |  7.8   | 0.88   | 0.00   | 2.6    | 0.098  | 25     | 67     | 0.9968 | 3.20   | 0.68   | 9.8    | 5      |\n",
       "| 3      |  7.8   | 0.76   | 0.04   | 2.3    | 0.092  | 15     | 54     | 0.9970 | 3.26   | 0.65   | 9.8    | 5      |\n",
       "| 4      | 11.2   | 0.28   | 0.56   | 1.9    | 0.075  | 17     | 60     | 0.9980 | 3.16   | 0.58   | 9.8    | 6      |\n",
       "| 5      |  7.4   | 0.70   | 0.00   | 1.9    | 0.076  | 11     | 34     | 0.9978 | 3.51   | 0.56   | 9.4    | 5      |\n",
       "| 6      |  7.4   | 0.66   | 0.00   | 1.8    | 0.075  | 13     | 40     | 0.9978 | 3.51   | 0.56   | 9.4    | 5      |\n",
       "\n"
      ],
      "text/plain": [
       "  X fixed.acidity volatile.acidity citric.acid residual.sugar chlorides\n",
       "1 1  7.4          0.70             0.00        1.9            0.076    \n",
       "2 2  7.8          0.88             0.00        2.6            0.098    \n",
       "3 3  7.8          0.76             0.04        2.3            0.092    \n",
       "4 4 11.2          0.28             0.56        1.9            0.075    \n",
       "5 5  7.4          0.70             0.00        1.9            0.076    \n",
       "6 6  7.4          0.66             0.00        1.8            0.075    \n",
       "  free.sulfur.dioxide total.sulfur.dioxide density pH   sulphates alcohol\n",
       "1 11                  34                   0.9978  3.51 0.56      9.4    \n",
       "2 25                  67                   0.9968  3.20 0.68      9.8    \n",
       "3 15                  54                   0.9970  3.26 0.65      9.8    \n",
       "4 17                  60                   0.9980  3.16 0.58      9.8    \n",
       "5 11                  34                   0.9978  3.51 0.56      9.4    \n",
       "6 13                  40                   0.9978  3.51 0.56      9.4    \n",
       "  quality\n",
       "1 5      \n",
       "2 5      \n",
       "3 5      \n",
       "4 6      \n",
       "5 5      \n",
       "6 5      "
      ]
     },
     "metadata": {},
     "output_type": "display_data"
    }
   ],
   "source": [
    "data=read.csv(\"wineQualityReds.csv\")\n",
    "head(data)"
   ]
  },
  {
   "cell_type": "code",
   "execution_count": 8,
   "id": "d6dadd7b",
   "metadata": {},
   "outputs": [
    {
     "name": "stdout",
     "output_type": "stream",
     "text": [
      "'data.frame':\t1599 obs. of  13 variables:\n",
      " $ X                   : int  1 2 3 4 5 6 7 8 9 10 ...\n",
      " $ fixed.acidity       : num  7.4 7.8 7.8 11.2 7.4 7.4 7.9 7.3 7.8 7.5 ...\n",
      " $ volatile.acidity    : num  0.7 0.88 0.76 0.28 0.7 0.66 0.6 0.65 0.58 0.5 ...\n",
      " $ citric.acid         : num  0 0 0.04 0.56 0 0 0.06 0 0.02 0.36 ...\n",
      " $ residual.sugar      : num  1.9 2.6 2.3 1.9 1.9 1.8 1.6 1.2 2 6.1 ...\n",
      " $ chlorides           : num  0.076 0.098 0.092 0.075 0.076 0.075 0.069 0.065 0.073 0.071 ...\n",
      " $ free.sulfur.dioxide : num  11 25 15 17 11 13 15 15 9 17 ...\n",
      " $ total.sulfur.dioxide: num  34 67 54 60 34 40 59 21 18 102 ...\n",
      " $ density             : num  0.998 0.997 0.997 0.998 0.998 ...\n",
      " $ pH                  : num  3.51 3.2 3.26 3.16 3.51 3.51 3.3 3.39 3.36 3.35 ...\n",
      " $ sulphates           : num  0.56 0.68 0.65 0.58 0.56 0.56 0.46 0.47 0.57 0.8 ...\n",
      " $ alcohol             : num  9.4 9.8 9.8 9.8 9.4 9.4 9.4 10 9.5 10.5 ...\n",
      " $ quality             : int  5 5 5 6 5 5 5 7 7 5 ...\n"
     ]
    }
   ],
   "source": [
    "str(data)"
   ]
  },
  {
   "cell_type": "code",
   "execution_count": 9,
   "id": "61fa0c52",
   "metadata": {},
   "outputs": [
    {
     "data": {
      "text/plain": [
       "       X          fixed.acidity   volatile.acidity  citric.acid   \n",
       " Min.   :   1.0   Min.   : 4.60   Min.   :0.1200   Min.   :0.000  \n",
       " 1st Qu.: 400.5   1st Qu.: 7.10   1st Qu.:0.3900   1st Qu.:0.090  \n",
       " Median : 800.0   Median : 7.90   Median :0.5200   Median :0.260  \n",
       " Mean   : 800.0   Mean   : 8.32   Mean   :0.5278   Mean   :0.271  \n",
       " 3rd Qu.:1199.5   3rd Qu.: 9.20   3rd Qu.:0.6400   3rd Qu.:0.420  \n",
       " Max.   :1599.0   Max.   :15.90   Max.   :1.5800   Max.   :1.000  \n",
       " residual.sugar     chlorides       free.sulfur.dioxide total.sulfur.dioxide\n",
       " Min.   : 0.900   Min.   :0.01200   Min.   : 1.00       Min.   :  6.00      \n",
       " 1st Qu.: 1.900   1st Qu.:0.07000   1st Qu.: 7.00       1st Qu.: 22.00      \n",
       " Median : 2.200   Median :0.07900   Median :14.00       Median : 38.00      \n",
       " Mean   : 2.539   Mean   :0.08747   Mean   :15.87       Mean   : 46.47      \n",
       " 3rd Qu.: 2.600   3rd Qu.:0.09000   3rd Qu.:21.00       3rd Qu.: 62.00      \n",
       " Max.   :15.500   Max.   :0.61100   Max.   :72.00       Max.   :289.00      \n",
       "    density             pH          sulphates         alcohol     \n",
       " Min.   :0.9901   Min.   :2.740   Min.   :0.3300   Min.   : 8.40  \n",
       " 1st Qu.:0.9956   1st Qu.:3.210   1st Qu.:0.5500   1st Qu.: 9.50  \n",
       " Median :0.9968   Median :3.310   Median :0.6200   Median :10.20  \n",
       " Mean   :0.9967   Mean   :3.311   Mean   :0.6581   Mean   :10.42  \n",
       " 3rd Qu.:0.9978   3rd Qu.:3.400   3rd Qu.:0.7300   3rd Qu.:11.10  \n",
       " Max.   :1.0037   Max.   :4.010   Max.   :2.0000   Max.   :14.90  \n",
       "    quality     \n",
       " Min.   :3.000  \n",
       " 1st Qu.:5.000  \n",
       " Median :6.000  \n",
       " Mean   :5.636  \n",
       " 3rd Qu.:6.000  \n",
       " Max.   :8.000  "
      ]
     },
     "metadata": {},
     "output_type": "display_data"
    }
   ],
   "source": [
    "summary(data)"
   ]
  },
  {
   "cell_type": "code",
   "execution_count": 71,
   "id": "f68c1ddd",
   "metadata": {},
   "outputs": [
    {
     "data": {
      "text/html": [
       "3.31111319574734"
      ],
      "text/latex": [
       "3.31111319574734"
      ],
      "text/markdown": [
       "3.31111319574734"
      ],
      "text/plain": [
       "[1] 3.311113"
      ]
     },
     "metadata": {},
     "output_type": "display_data"
    }
   ],
   "source": [
    "mean(data$pH)"
   ]
  },
  {
   "cell_type": "code",
   "execution_count": 73,
   "id": "d248a42d",
   "metadata": {},
   "outputs": [
    {
     "data": {
      "text/html": [
       "3.31"
      ],
      "text/latex": [
       "3.31"
      ],
      "text/markdown": [
       "3.31"
      ],
      "text/plain": [
       "[1] 3.31"
      ]
     },
     "metadata": {},
     "output_type": "display_data"
    }
   ],
   "source": [
    "median(data$pH)"
   ]
  },
  {
   "cell_type": "code",
   "execution_count": 74,
   "id": "8eb33f29",
   "metadata": {},
   "outputs": [
    {
     "data": {
      "text/html": [
       "4.01"
      ],
      "text/latex": [
       "4.01"
      ],
      "text/markdown": [
       "4.01"
      ],
      "text/plain": [
       "[1] 4.01"
      ]
     },
     "metadata": {},
     "output_type": "display_data"
    }
   ],
   "source": [
    "max(data$pH)"
   ]
  },
  {
   "cell_type": "code",
   "execution_count": 75,
   "id": "d11b7641",
   "metadata": {},
   "outputs": [
    {
     "data": {
      "text/html": [
       "2.74"
      ],
      "text/latex": [
       "2.74"
      ],
      "text/markdown": [
       "2.74"
      ],
      "text/plain": [
       "[1] 2.74"
      ]
     },
     "metadata": {},
     "output_type": "display_data"
    }
   ],
   "source": [
    "min(data$pH)"
   ]
  },
  {
   "cell_type": "code",
   "execution_count": 79,
   "id": "f04b461e",
   "metadata": {},
   "outputs": [
    {
     "data": {
      "text/html": [
       "0.154386464903543"
      ],
      "text/latex": [
       "0.154386464903543"
      ],
      "text/markdown": [
       "0.154386464903543"
      ],
      "text/plain": [
       "[1] 0.1543865"
      ]
     },
     "metadata": {},
     "output_type": "display_data"
    }
   ],
   "source": [
    "sd(data$pH)"
   ]
  },
  {
   "cell_type": "code",
   "execution_count": 14,
   "id": "0d72d22d",
   "metadata": {},
   "outputs": [
    {
     "data": {
      "text/html": [
       "<ol class=list-inline>\n",
       "\t<li>'X'</li>\n",
       "\t<li>'fixed.acidity'</li>\n",
       "\t<li>'volatile.acidity'</li>\n",
       "\t<li>'citric.acid'</li>\n",
       "\t<li>'residual.sugar'</li>\n",
       "\t<li>'chlorides'</li>\n",
       "\t<li>'free.sulfur.dioxide'</li>\n",
       "\t<li>'total.sulfur.dioxide'</li>\n",
       "\t<li>'density'</li>\n",
       "\t<li>'pH'</li>\n",
       "\t<li>'sulphates'</li>\n",
       "\t<li>'alcohol'</li>\n",
       "\t<li>'quality'</li>\n",
       "</ol>\n"
      ],
      "text/latex": [
       "\\begin{enumerate*}\n",
       "\\item 'X'\n",
       "\\item 'fixed.acidity'\n",
       "\\item 'volatile.acidity'\n",
       "\\item 'citric.acid'\n",
       "\\item 'residual.sugar'\n",
       "\\item 'chlorides'\n",
       "\\item 'free.sulfur.dioxide'\n",
       "\\item 'total.sulfur.dioxide'\n",
       "\\item 'density'\n",
       "\\item 'pH'\n",
       "\\item 'sulphates'\n",
       "\\item 'alcohol'\n",
       "\\item 'quality'\n",
       "\\end{enumerate*}\n"
      ],
      "text/markdown": [
       "1. 'X'\n",
       "2. 'fixed.acidity'\n",
       "3. 'volatile.acidity'\n",
       "4. 'citric.acid'\n",
       "5. 'residual.sugar'\n",
       "6. 'chlorides'\n",
       "7. 'free.sulfur.dioxide'\n",
       "8. 'total.sulfur.dioxide'\n",
       "9. 'density'\n",
       "10. 'pH'\n",
       "11. 'sulphates'\n",
       "12. 'alcohol'\n",
       "13. 'quality'\n",
       "\n",
       "\n"
      ],
      "text/plain": [
       " [1] \"X\"                    \"fixed.acidity\"        \"volatile.acidity\"    \n",
       " [4] \"citric.acid\"          \"residual.sugar\"       \"chlorides\"           \n",
       " [7] \"free.sulfur.dioxide\"  \"total.sulfur.dioxide\" \"density\"             \n",
       "[10] \"pH\"                   \"sulphates\"            \"alcohol\"             \n",
       "[13] \"quality\"             "
      ]
     },
     "metadata": {},
     "output_type": "display_data"
    }
   ],
   "source": [
    "# Column names\n",
    "names(data)"
   ]
  },
  {
   "cell_type": "code",
   "execution_count": 15,
   "id": "df7d46b5",
   "metadata": {},
   "outputs": [
    {
     "data": {
      "text/html": [
       "1599"
      ],
      "text/latex": [
       "1599"
      ],
      "text/markdown": [
       "1599"
      ],
      "text/plain": [
       "[1] 1599"
      ]
     },
     "metadata": {},
     "output_type": "display_data"
    }
   ],
   "source": [
    "# Number of rows\n",
    "nrow(data)"
   ]
  },
  {
   "cell_type": "code",
   "execution_count": 86,
   "id": "5342ddb1",
   "metadata": {},
   "outputs": [
    {
     "data": {
      "text/html": [
       "<ol class=list-inline>\n",
       "\t<li>1599</li>\n",
       "\t<li>13</li>\n",
       "</ol>\n"
      ],
      "text/latex": [
       "\\begin{enumerate*}\n",
       "\\item 1599\n",
       "\\item 13\n",
       "\\end{enumerate*}\n"
      ],
      "text/markdown": [
       "1. 1599\n",
       "2. 13\n",
       "\n",
       "\n"
      ],
      "text/plain": [
       "[1] 1599   13"
      ]
     },
     "metadata": {},
     "output_type": "display_data"
    }
   ],
   "source": [
    "# What are dataset dimensions\n",
    "dim(data)"
   ]
  },
  {
   "cell_type": "code",
   "execution_count": 87,
   "id": "0d62dabf",
   "metadata": {},
   "outputs": [
    {
     "data": {
      "text/html": [
       "FALSE"
      ],
      "text/latex": [
       "FALSE"
      ],
      "text/markdown": [
       "FALSE"
      ],
      "text/plain": [
       "[1] FALSE"
      ]
     },
     "metadata": {},
     "output_type": "display_data"
    }
   ],
   "source": [
    "#Let us check if we have any NA values in our data.\n",
    "#If FALSE means no NA data in our data.frame\n",
    "#If TRUE we will check each column and for NA data.\n",
    "\n",
    "any(is.na.data.frame(data))"
   ]
  },
  {
   "cell_type": "code",
   "execution_count": 88,
   "id": "412546ea",
   "metadata": {},
   "outputs": [
    {
     "data": {
      "text/html": [
       "<ol class=list-inline>\n",
       "\t<li>5</li>\n",
       "\t<li>6</li>\n",
       "\t<li>7</li>\n",
       "\t<li>4</li>\n",
       "\t<li>8</li>\n",
       "\t<li>3</li>\n",
       "</ol>\n"
      ],
      "text/latex": [
       "\\begin{enumerate*}\n",
       "\\item 5\n",
       "\\item 6\n",
       "\\item 7\n",
       "\\item 4\n",
       "\\item 8\n",
       "\\item 3\n",
       "\\end{enumerate*}\n"
      ],
      "text/markdown": [
       "1. 5\n",
       "2. 6\n",
       "3. 7\n",
       "4. 4\n",
       "5. 8\n",
       "6. 3\n",
       "\n",
       "\n"
      ],
      "text/plain": [
       "[1] 5 6 7 4 8 3"
      ]
     },
     "metadata": {},
     "output_type": "display_data"
    }
   ],
   "source": [
    "# Which are the wine qualities for which data is available?\n",
    "# Levels of the quality in wine \n",
    "unique(data$quality)"
   ]
  },
  {
   "cell_type": "code",
   "execution_count": 22,
   "id": "00f10f81",
   "metadata": {},
   "outputs": [],
   "source": [
    "#Transforming Quality from an Integer to a Factor\n",
    "data$quality <- factor(data$quality, ordered = T)"
   ]
  },
  {
   "cell_type": "code",
   "execution_count": 23,
   "id": "3e9214a2",
   "metadata": {},
   "outputs": [],
   "source": [
    "#Creating a new Factored Variable called 'Rating'\n",
    "\n",
    "data$rating <- ifelse(data$quality < 5, 'bad', ifelse(\n",
    "  data$quality < 7, 'average', 'good'))\n",
    "\n",
    "data$rating <- ordered(data$rating,\n",
    "                       levels = c('bad', 'average', 'good'))\n"
   ]
  },
  {
   "cell_type": "code",
   "execution_count": 24,
   "id": "ffe0bf1c",
   "metadata": {},
   "outputs": [
    {
     "data": {
      "text/html": [
       "<table>\n",
       "<thead><tr><th scope=col>X</th><th scope=col>fixed.acidity</th><th scope=col>volatile.acidity</th><th scope=col>citric.acid</th><th scope=col>residual.sugar</th><th scope=col>chlorides</th><th scope=col>free.sulfur.dioxide</th><th scope=col>total.sulfur.dioxide</th><th scope=col>density</th><th scope=col>pH</th><th scope=col>sulphates</th><th scope=col>alcohol</th><th scope=col>quality</th><th scope=col>rating</th></tr></thead>\n",
       "<tbody>\n",
       "\t<tr><td>1      </td><td> 7.4   </td><td>0.70   </td><td>0.00   </td><td>1.9    </td><td>0.076  </td><td>11     </td><td>34     </td><td>0.9978 </td><td>3.51   </td><td>0.56   </td><td>9.4    </td><td>5      </td><td>average</td></tr>\n",
       "\t<tr><td>2      </td><td> 7.8   </td><td>0.88   </td><td>0.00   </td><td>2.6    </td><td>0.098  </td><td>25     </td><td>67     </td><td>0.9968 </td><td>3.20   </td><td>0.68   </td><td>9.8    </td><td>5      </td><td>average</td></tr>\n",
       "\t<tr><td>3      </td><td> 7.8   </td><td>0.76   </td><td>0.04   </td><td>2.3    </td><td>0.092  </td><td>15     </td><td>54     </td><td>0.9970 </td><td>3.26   </td><td>0.65   </td><td>9.8    </td><td>5      </td><td>average</td></tr>\n",
       "\t<tr><td>4      </td><td>11.2   </td><td>0.28   </td><td>0.56   </td><td>1.9    </td><td>0.075  </td><td>17     </td><td>60     </td><td>0.9980 </td><td>3.16   </td><td>0.58   </td><td>9.8    </td><td>6      </td><td>average</td></tr>\n",
       "\t<tr><td>5      </td><td> 7.4   </td><td>0.70   </td><td>0.00   </td><td>1.9    </td><td>0.076  </td><td>11     </td><td>34     </td><td>0.9978 </td><td>3.51   </td><td>0.56   </td><td>9.4    </td><td>5      </td><td>average</td></tr>\n",
       "\t<tr><td>6      </td><td> 7.4   </td><td>0.66   </td><td>0.00   </td><td>1.8    </td><td>0.075  </td><td>13     </td><td>40     </td><td>0.9978 </td><td>3.51   </td><td>0.56   </td><td>9.4    </td><td>5      </td><td>average</td></tr>\n",
       "</tbody>\n",
       "</table>\n"
      ],
      "text/latex": [
       "\\begin{tabular}{r|llllllllllllll}\n",
       " X & fixed.acidity & volatile.acidity & citric.acid & residual.sugar & chlorides & free.sulfur.dioxide & total.sulfur.dioxide & density & pH & sulphates & alcohol & quality & rating\\\\\n",
       "\\hline\n",
       "\t 1       &  7.4    & 0.70    & 0.00    & 1.9     & 0.076   & 11      & 34      & 0.9978  & 3.51    & 0.56    & 9.4     & 5       & average\\\\\n",
       "\t 2       &  7.8    & 0.88    & 0.00    & 2.6     & 0.098   & 25      & 67      & 0.9968  & 3.20    & 0.68    & 9.8     & 5       & average\\\\\n",
       "\t 3       &  7.8    & 0.76    & 0.04    & 2.3     & 0.092   & 15      & 54      & 0.9970  & 3.26    & 0.65    & 9.8     & 5       & average\\\\\n",
       "\t 4       & 11.2    & 0.28    & 0.56    & 1.9     & 0.075   & 17      & 60      & 0.9980  & 3.16    & 0.58    & 9.8     & 6       & average\\\\\n",
       "\t 5       &  7.4    & 0.70    & 0.00    & 1.9     & 0.076   & 11      & 34      & 0.9978  & 3.51    & 0.56    & 9.4     & 5       & average\\\\\n",
       "\t 6       &  7.4    & 0.66    & 0.00    & 1.8     & 0.075   & 13      & 40      & 0.9978  & 3.51    & 0.56    & 9.4     & 5       & average\\\\\n",
       "\\end{tabular}\n"
      ],
      "text/markdown": [
       "\n",
       "| X | fixed.acidity | volatile.acidity | citric.acid | residual.sugar | chlorides | free.sulfur.dioxide | total.sulfur.dioxide | density | pH | sulphates | alcohol | quality | rating |\n",
       "|---|---|---|---|---|---|---|---|---|---|---|---|---|---|\n",
       "| 1       |  7.4    | 0.70    | 0.00    | 1.9     | 0.076   | 11      | 34      | 0.9978  | 3.51    | 0.56    | 9.4     | 5       | average |\n",
       "| 2       |  7.8    | 0.88    | 0.00    | 2.6     | 0.098   | 25      | 67      | 0.9968  | 3.20    | 0.68    | 9.8     | 5       | average |\n",
       "| 3       |  7.8    | 0.76    | 0.04    | 2.3     | 0.092   | 15      | 54      | 0.9970  | 3.26    | 0.65    | 9.8     | 5       | average |\n",
       "| 4       | 11.2    | 0.28    | 0.56    | 1.9     | 0.075   | 17      | 60      | 0.9980  | 3.16    | 0.58    | 9.8     | 6       | average |\n",
       "| 5       |  7.4    | 0.70    | 0.00    | 1.9     | 0.076   | 11      | 34      | 0.9978  | 3.51    | 0.56    | 9.4     | 5       | average |\n",
       "| 6       |  7.4    | 0.66    | 0.00    | 1.8     | 0.075   | 13      | 40      | 0.9978  | 3.51    | 0.56    | 9.4     | 5       | average |\n",
       "\n"
      ],
      "text/plain": [
       "  X fixed.acidity volatile.acidity citric.acid residual.sugar chlorides\n",
       "1 1  7.4          0.70             0.00        1.9            0.076    \n",
       "2 2  7.8          0.88             0.00        2.6            0.098    \n",
       "3 3  7.8          0.76             0.04        2.3            0.092    \n",
       "4 4 11.2          0.28             0.56        1.9            0.075    \n",
       "5 5  7.4          0.70             0.00        1.9            0.076    \n",
       "6 6  7.4          0.66             0.00        1.8            0.075    \n",
       "  free.sulfur.dioxide total.sulfur.dioxide density pH   sulphates alcohol\n",
       "1 11                  34                   0.9978  3.51 0.56      9.4    \n",
       "2 25                  67                   0.9968  3.20 0.68      9.8    \n",
       "3 15                  54                   0.9970  3.26 0.65      9.8    \n",
       "4 17                  60                   0.9980  3.16 0.58      9.8    \n",
       "5 11                  34                   0.9978  3.51 0.56      9.4    \n",
       "6 13                  40                   0.9978  3.51 0.56      9.4    \n",
       "  quality rating \n",
       "1 5       average\n",
       "2 5       average\n",
       "3 5       average\n",
       "4 6       average\n",
       "5 5       average\n",
       "6 5       average"
      ]
     },
     "metadata": {},
     "output_type": "display_data"
    }
   ],
   "source": [
    "head(data)\n"
   ]
  },
  {
   "cell_type": "code",
   "execution_count": 25,
   "id": "77d0f35a",
   "metadata": {},
   "outputs": [
    {
     "data": {
      "image/png": "[encoded data removed]",
      "text/plain": [
       "plot without title"
      ]
     },
     "metadata": {},
     "output_type": "display_data"
    }
   ],
   "source": [
    "#Scatterplot Matrix of Variables\n",
    "plot(data)"
   ]
  },
  {
   "cell_type": "code",
   "execution_count": 26,
   "id": "a926e15f",
   "metadata": {},
   "outputs": [
    {
     "name": "stderr",
     "output_type": "stream",
     "text": [
      "also installing the dependencies 'rlang', 'vctrs', 'cli', 'ggplot2', 'forcats', 'lifecycle', 'reshape', 'scales'\n",
      "\n"
     ]
    },
    {
     "name": "stdout",
     "output_type": "stream",
     "text": [
      "\n",
      "  There are binary versions available but the source versions are later:\n",
      "          binary source needs_compilation\n",
      "rlang     0.4.11  1.1.0              TRUE\n",
      "vctrs      0.3.8  0.6.1              TRUE\n",
      "cli        2.5.0  3.6.1              TRUE\n",
      "ggplot2    3.3.3  3.4.2             FALSE\n",
      "forcats    0.5.1  1.0.0             FALSE\n",
      "lifecycle  1.0.0  1.0.3             FALSE\n",
      "reshape    0.8.8  0.8.9              TRUE\n",
      "scales     1.1.1  1.2.1             FALSE\n",
      "GGally     2.1.1  2.1.2             FALSE\n",
      "\n",
      "  Binaries will be installed\n",
      "package 'rlang' successfully unpacked and MD5 sums checked\n",
      "package 'vctrs' successfully unpacked and MD5 sums checked\n",
      "package 'cli' successfully unpacked and MD5 sums checked\n",
      "package 'reshape' successfully unpacked and MD5 sums checked\n",
      "\n",
      "The downloaded binary packages are in\n",
      "\tC:\\Users\\chitr\\AppData\\Local\\Temp\\RtmpCs428n\\downloaded_packages\n"
     ]
    },
    {
     "name": "stderr",
     "output_type": "stream",
     "text": [
      "installing the source packages 'ggplot2', 'forcats', 'lifecycle', 'scales', 'GGally'\n",
      "\n",
      "Warning message in install.packages(\"GGally\"):\n",
      "\"installation of package 'lifecycle' had non-zero exit status\"Warning message in install.packages(\"GGally\"):\n",
      "\"installation of package 'forcats' had non-zero exit status\"Warning message in install.packages(\"GGally\"):\n",
      "\"installation of package 'scales' had non-zero exit status\"Warning message in install.packages(\"GGally\"):\n",
      "\"installation of package 'ggplot2' had non-zero exit status\"Warning message in install.packages(\"GGally\"):\n",
      "\"installation of package 'GGally' had non-zero exit status\""
     ]
    }
   ],
   "source": [
    "install.packages(\"GGally\")"
   ]
  },
  {
   "cell_type": "code",
   "execution_count": 37,
   "id": "1dbf109e",
   "metadata": {},
   "outputs": [
    {
     "data": {
      "image/png": "[encoded data removed]",
      "text/plain": [
       "Plot with title \"\""
      ]
     },
     "metadata": {},
     "output_type": "display_data"
    }
   ],
   "source": [
    "nc=ncol(data)\n",
    "df <- data[,1:11]\n",
    "df$quality <- as.integer(data[,12])\n",
    "correlations <- cor(df,method=\"pearson\")\n",
    "corrplot(correlations, number.cex = .9, method = \"square\", \n",
    "         hclust.method = \"ward\", order = \"FPC\",\n",
    "         type = \"full\", tl.cex=0.8,tl.col = \"black\")"
   ]
  },
  {
   "cell_type": "markdown",
   "id": "c3bde991",
   "metadata": {},
   "source": [
    "#The following dimmensions are relatively highly correlated:\n",
    "\n",
    "total.sulfur.dioxide with free.sulfur.dioxide; fixed.acidity with density and citric.acid;\n",
    "\n",
    "The following dimmensions are relatively correlated:\n",
    "\n",
    "alcohol with quality (this might be a candidate for drop, since might be a leak);\n",
    "\n",
    "The following dimmensions are relativelly highly inverse correlated:\n",
    "\n",
    "fixed.acidity with pH;\n",
    "\n",
    "The following dimmensions are relatively inverse correlated:\n",
    "\n",
    "citric.acid with pH and volatile.acidity;"
   ]
  },
  {
   "cell_type": "code",
   "execution_count": 43,
   "id": "95b86595",
   "metadata": {},
   "outputs": [
    {
     "data": {
      "image/png": "[encoded data removed]",
      "text/plain": [
       "plot without title"
      ]
     },
     "metadata": {},
     "output_type": "display_data"
    }
   ],
   "source": [
    "boxplot(data$pH)"
   ]
  },
  {
   "cell_type": "code",
   "execution_count": 44,
   "id": "dc8b3848",
   "metadata": {},
   "outputs": [
    {
     "data": {
      "image/png": "[encoded data removed]",
      "text/plain": [
       "Plot with title \"Histogram of data$density\""
      ]
     },
     "metadata": {},
     "output_type": "display_data"
    }
   ],
   "source": [
    "hist(data$density)"
   ]
  },
  {
   "cell_type": "code",
   "execution_count": 45,
   "id": "412d9a83",
   "metadata": {},
   "outputs": [
    {
     "data": {
      "text/html": [
       "<table>\n",
       "<thead><tr><th scope=col>X</th><th scope=col>fixed.acidity</th><th scope=col>volatile.acidity</th><th scope=col>citric.acid</th><th scope=col>residual.sugar</th><th scope=col>chlorides</th><th scope=col>free.sulfur.dioxide</th><th scope=col>total.sulfur.dioxide</th><th scope=col>density</th><th scope=col>pH</th><th scope=col>sulphates</th><th scope=col>alcohol</th><th scope=col>quality</th><th scope=col>rating</th></tr></thead>\n",
       "<tbody>\n",
       "\t<tr><td>1      </td><td> 7.4   </td><td>0.70   </td><td>0.00   </td><td>1.9    </td><td>0.076  </td><td>11     </td><td>34     </td><td>0.9978 </td><td>3.51   </td><td>0.56   </td><td>9.4    </td><td>5      </td><td>average</td></tr>\n",
       "\t<tr><td>2      </td><td> 7.8   </td><td>0.88   </td><td>0.00   </td><td>2.6    </td><td>0.098  </td><td>25     </td><td>67     </td><td>0.9968 </td><td>3.20   </td><td>0.68   </td><td>9.8    </td><td>5      </td><td>average</td></tr>\n",
       "\t<tr><td>3      </td><td> 7.8   </td><td>0.76   </td><td>0.04   </td><td>2.3    </td><td>0.092  </td><td>15     </td><td>54     </td><td>0.9970 </td><td>3.26   </td><td>0.65   </td><td>9.8    </td><td>5      </td><td>average</td></tr>\n",
       "\t<tr><td>4      </td><td>11.2   </td><td>0.28   </td><td>0.56   </td><td>1.9    </td><td>0.075  </td><td>17     </td><td>60     </td><td>0.9980 </td><td>3.16   </td><td>0.58   </td><td>9.8    </td><td>6      </td><td>average</td></tr>\n",
       "\t<tr><td>5      </td><td> 7.4   </td><td>0.70   </td><td>0.00   </td><td>1.9    </td><td>0.076  </td><td>11     </td><td>34     </td><td>0.9978 </td><td>3.51   </td><td>0.56   </td><td>9.4    </td><td>5      </td><td>average</td></tr>\n",
       "\t<tr><td>6      </td><td> 7.4   </td><td>0.66   </td><td>0.00   </td><td>1.8    </td><td>0.075  </td><td>13     </td><td>40     </td><td>0.9978 </td><td>3.51   </td><td>0.56   </td><td>9.4    </td><td>5      </td><td>average</td></tr>\n",
       "</tbody>\n",
       "</table>\n"
      ],
      "text/latex": [
       "\\begin{tabular}{r|llllllllllllll}\n",
       " X & fixed.acidity & volatile.acidity & citric.acid & residual.sugar & chlorides & free.sulfur.dioxide & total.sulfur.dioxide & density & pH & sulphates & alcohol & quality & rating\\\\\n",
       "\\hline\n",
       "\t 1       &  7.4    & 0.70    & 0.00    & 1.9     & 0.076   & 11      & 34      & 0.9978  & 3.51    & 0.56    & 9.4     & 5       & average\\\\\n",
       "\t 2       &  7.8    & 0.88    & 0.00    & 2.6     & 0.098   & 25      & 67      & 0.9968  & 3.20    & 0.68    & 9.8     & 5       & average\\\\\n",
       "\t 3       &  7.8    & 0.76    & 0.04    & 2.3     & 0.092   & 15      & 54      & 0.9970  & 3.26    & 0.65    & 9.8     & 5       & average\\\\\n",
       "\t 4       & 11.2    & 0.28    & 0.56    & 1.9     & 0.075   & 17      & 60      & 0.9980  & 3.16    & 0.58    & 9.8     & 6       & average\\\\\n",
       "\t 5       &  7.4    & 0.70    & 0.00    & 1.9     & 0.076   & 11      & 34      & 0.9978  & 3.51    & 0.56    & 9.4     & 5       & average\\\\\n",
       "\t 6       &  7.4    & 0.66    & 0.00    & 1.8     & 0.075   & 13      & 40      & 0.9978  & 3.51    & 0.56    & 9.4     & 5       & average\\\\\n",
       "\\end{tabular}\n"
      ],
      "text/markdown": [
       "\n",
       "| X | fixed.acidity | volatile.acidity | citric.acid | residual.sugar | chlorides | free.sulfur.dioxide | total.sulfur.dioxide | density | pH | sulphates | alcohol | quality | rating |\n",
       "|---|---|---|---|---|---|---|---|---|---|---|---|---|---|\n",
       "| 1       |  7.4    | 0.70    | 0.00    | 1.9     | 0.076   | 11      | 34      | 0.9978  | 3.51    | 0.56    | 9.4     | 5       | average |\n",
       "| 2       |  7.8    | 0.88    | 0.00    | 2.6     | 0.098   | 25      | 67      | 0.9968  | 3.20    | 0.68    | 9.8     | 5       | average |\n",
       "| 3       |  7.8    | 0.76    | 0.04    | 2.3     | 0.092   | 15      | 54      | 0.9970  | 3.26    | 0.65    | 9.8     | 5       | average |\n",
       "| 4       | 11.2    | 0.28    | 0.56    | 1.9     | 0.075   | 17      | 60      | 0.9980  | 3.16    | 0.58    | 9.8     | 6       | average |\n",
       "| 5       |  7.4    | 0.70    | 0.00    | 1.9     | 0.076   | 11      | 34      | 0.9978  | 3.51    | 0.56    | 9.4     | 5       | average |\n",
       "| 6       |  7.4    | 0.66    | 0.00    | 1.8     | 0.075   | 13      | 40      | 0.9978  | 3.51    | 0.56    | 9.4     | 5       | average |\n",
       "\n"
      ],
      "text/plain": [
       "  X fixed.acidity volatile.acidity citric.acid residual.sugar chlorides\n",
       "1 1  7.4          0.70             0.00        1.9            0.076    \n",
       "2 2  7.8          0.88             0.00        2.6            0.098    \n",
       "3 3  7.8          0.76             0.04        2.3            0.092    \n",
       "4 4 11.2          0.28             0.56        1.9            0.075    \n",
       "5 5  7.4          0.70             0.00        1.9            0.076    \n",
       "6 6  7.4          0.66             0.00        1.8            0.075    \n",
       "  free.sulfur.dioxide total.sulfur.dioxide density pH   sulphates alcohol\n",
       "1 11                  34                   0.9978  3.51 0.56      9.4    \n",
       "2 25                  67                   0.9968  3.20 0.68      9.8    \n",
       "3 15                  54                   0.9970  3.26 0.65      9.8    \n",
       "4 17                  60                   0.9980  3.16 0.58      9.8    \n",
       "5 11                  34                   0.9978  3.51 0.56      9.4    \n",
       "6 13                  40                   0.9978  3.51 0.56      9.4    \n",
       "  quality rating \n",
       "1 5       average\n",
       "2 5       average\n",
       "3 5       average\n",
       "4 6       average\n",
       "5 5       average\n",
       "6 5       average"
      ]
     },
     "metadata": {},
     "output_type": "display_data"
    }
   ],
   "source": [
    "head(data)"
   ]
  },
  {
   "cell_type": "code",
   "execution_count": 46,
   "id": "d6920e83",
   "metadata": {},
   "outputs": [
    {
     "name": "stdout",
     "output_type": "stream",
     "text": [
      "[1] \"---Values in quality column\"\n"
     ]
    },
    {
     "data": {
      "text/html": [
       "<ol class=list-inline>\n",
       "\t<li>5</li>\n",
       "\t<li>6</li>\n",
       "\t<li>7</li>\n",
       "\t<li>4</li>\n",
       "\t<li>8</li>\n",
       "\t<li>3</li>\n",
       "</ol>\n",
       "\n",
       "<details>\n",
       "\t<summary style=display:list-item;cursor:pointer>\n",
       "\t\t<strong>Levels</strong>:\n",
       "\t</summary>\n",
       "\t<ol class=list-inline>\n",
       "\t\t<li>'3'</li>\n",
       "\t\t<li>'4'</li>\n",
       "\t\t<li>'5'</li>\n",
       "\t\t<li>'6'</li>\n",
       "\t\t<li>'7'</li>\n",
       "\t\t<li>'8'</li>\n",
       "\t</ol>\n",
       "</details>"
      ],
      "text/latex": [
       "\\begin{enumerate*}\n",
       "\\item 5\n",
       "\\item 6\n",
       "\\item 7\n",
       "\\item 4\n",
       "\\item 8\n",
       "\\item 3\n",
       "\\end{enumerate*}\n",
       "\n",
       "\\emph{Levels}: \\begin{enumerate*}\n",
       "\\item '3'\n",
       "\\item '4'\n",
       "\\item '5'\n",
       "\\item '6'\n",
       "\\item '7'\n",
       "\\item '8'\n",
       "\\end{enumerate*}\n"
      ],
      "text/markdown": [
       "1. 5\n",
       "2. 6\n",
       "3. 7\n",
       "4. 4\n",
       "5. 8\n",
       "6. 3\n",
       "\n",
       "\n",
       "\n",
       "**Levels**: 1. '3'\n",
       "2. '4'\n",
       "3. '5'\n",
       "4. '6'\n",
       "5. '7'\n",
       "6. '8'\n",
       "\n",
       "\n"
      ],
      "text/plain": [
       "[1] 5 6 7 4 8 3\n",
       "Levels: 3 < 4 < 5 < 6 < 7 < 8"
      ]
     },
     "metadata": {},
     "output_type": "display_data"
    }
   ],
   "source": [
    "print(\"---Values in quality column\")\n",
    "unique(data$quality)"
   ]
  },
  {
   "cell_type": "code",
   "execution_count": 47,
   "id": "f811d29f",
   "metadata": {},
   "outputs": [
    {
     "data": {
      "text/plain": [
       "\n",
       "  3   4   5   6   7   8 \n",
       " 10  53 681 638 199  18 "
      ]
     },
     "metadata": {},
     "output_type": "display_data"
    }
   ],
   "source": [
    "table(data$quality)"
   ]
  },
  {
   "cell_type": "markdown",
   "id": "c8caca1e",
   "metadata": {},
   "source": [
    "we can see that class is skewed i.e it has imbalance value# "
   ]
  },
  {
   "cell_type": "code",
   "execution_count": 48,
   "id": "4999cc8f",
   "metadata": {},
   "outputs": [
    {
     "data": {
      "text/html": [
       "<dl class=dl-horizontal>\n",
       "\t<dt>0%</dt>\n",
       "\t\t<dd>8.4</dd>\n",
       "\t<dt>25%</dt>\n",
       "\t\t<dd>9.5</dd>\n",
       "\t<dt>50%</dt>\n",
       "\t\t<dd>10.2</dd>\n",
       "\t<dt>75%</dt>\n",
       "\t\t<dd>11.1</dd>\n",
       "\t<dt>100%</dt>\n",
       "\t\t<dd>14.9</dd>\n",
       "</dl>\n"
      ],
      "text/latex": [
       "\\begin{description*}\n",
       "\\item[0\\textbackslash{}\\%] 8.4\n",
       "\\item[25\\textbackslash{}\\%] 9.5\n",
       "\\item[50\\textbackslash{}\\%] 10.2\n",
       "\\item[75\\textbackslash{}\\%] 11.1\n",
       "\\item[100\\textbackslash{}\\%] 14.9\n",
       "\\end{description*}\n"
      ],
      "text/markdown": [
       "0%\n",
       ":   8.425%\n",
       ":   9.550%\n",
       ":   10.275%\n",
       ":   11.1100%\n",
       ":   14.9\n",
       "\n"
      ],
      "text/plain": [
       "  0%  25%  50%  75% 100% \n",
       " 8.4  9.5 10.2 11.1 14.9 "
      ]
     },
     "metadata": {},
     "output_type": "display_data"
    }
   ],
   "source": [
    "data$alcohol=as.numeric(data$alcohol)\n",
    "quantile(data$alcohol)"
   ]
  },
  {
   "cell_type": "code",
   "execution_count": 70,
   "id": "4c9c527b",
   "metadata": {},
   "outputs": [
    {
     "data": {
      "image/png": "[encoded data removed]",
      "text/plain": [
       "Plot with title \"density.default(x = data$pH)\""
      ]
     },
     "metadata": {},
     "output_type": "display_data"
    }
   ],
   "source": [
    "plot(density(data$pH))"
   ]
  },
  {
   "cell_type": "code",
   "execution_count": null,
   "id": "30564a3c",
   "metadata": {},
   "outputs": [],
   "source": []
  }
 ],
 "metadata": {
  "kernelspec": {
   "display_name": "R",
   "language": "R",
   "name": "ir"
  },
  "language_info": {
   "codemirror_mode": "r",
   "file_extension": ".r",
   "mimetype": "text/x-r-source",
   "name": "R",
   "pygments_lexer": "r",
   "version": "3.6.1"
  }
 },
 "nbformat": 4,
 "nbformat_minor": 5
}
